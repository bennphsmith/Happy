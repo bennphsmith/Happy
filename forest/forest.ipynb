{
 "cells": [
  {
   "cell_type": "code",
   "execution_count": 170,
   "metadata": {},
   "outputs": [],
   "source": [
    "import pandas as pd\n",
    "import numpy as np\n",
    "import pylab\n",
    "import matplotlib.pyplot as plt\n",
    "import plotly.graph_objects as go\n",
    "import seaborn as sns\n",
    "import statsmodels.api as sm\n",
    "from sklearn.ensemble import RandomForestRegressor\n",
    "from sklearn.model_selection import cross_val_score, GridSearchCV, train_test_split\n",
    "from sklearn import linear_model\n",
    "from scipy import stats"
   ]
  },
  {
   "cell_type": "code",
   "execution_count": 171,
   "metadata": {},
   "outputs": [
    {
     "output_type": "stream",
     "name": "stdout",
     "text": "(287, 5)\n(287, 1)\n"
    }
   ],
   "source": [
    "# Import the dataset\n",
    "forestData = pd.read_csv('normalTotal.csv', index_col=[0]) # Use normalised values\n",
    "forestData = forestData.drop(['Country', 'Region'], axis=1) # Drop country and region data\n",
    "forest_x = forestData.drop(['Happiness Score'], axis=1) # X - all data apart from Happiness Score\n",
    "forest_y = forestData['Happiness Score'].values.reshape(-1,1) # y - reshap happiness score to make compatible\n",
    "\n",
    "# Check shapes\n",
    "print(forest_x.shape)\n",
    "print(forest_y.shape)\n",
    "\n",
    "# Split the data sets into training and testing\n",
    "x_train, x_test, y_train, y_test = train_test_split(forest_x, forest_y, test_size=0.25)"
   ]
  },
  {
   "cell_type": "code",
   "execution_count": 172,
   "metadata": {},
   "outputs": [
    {
     "output_type": "stream",
     "name": "stdout",
     "text": "{'max_depth': 3, 'n_estimators': 50}\n-0.015316739870419106\nThe average mean squared error for forest is: -0.014501548398236835\nThe average mean squared error for forest_tune is: -0.01521064933705433\nThe Non-tuned training score is 68.74338322522364\nThe Non-tuned test score is 56.57585228243385\nThe Tuned training score is 61.18588219548589\nThe Tuned test score is 56.8333348630748\n"
    }
   ],
   "source": [
    "# Create function for mean absolute percentage error\n",
    "def mean_absolute_percentage_error(y_true, y_pred): \n",
    "    y_true, y_pred = np.array(y_true), np.array(y_pred)\n",
    "    return np.mean(np.abs((y_true - y_pred) / y_true)) * 100\n",
    "\n",
    "#######forest Regression########\n",
    "forest = RandomForestRegressor() # Instansiate new forest instance\n",
    "\n",
    "# Tune the Hyperparameters using GridSearch\n",
    "param_grid={'max_depth': range(2,8), 'n_estimators': (10, 50, 100, 1000)} # Regularisation parameters\n",
    "grid = GridSearchCV(forest, param_grid, scoring='neg_mean_squared_error', cv=4) # Perform gridsearch\n",
    "result = grid.fit(x_train, y_train)\n",
    "print(grid.best_params_) # Display the beest paremeter value\n",
    "print(grid.best_score_) # Display the best neg mean square score\n",
    "# Create new model with optimal parameters\n",
    "best_params = result.best_params_\n",
    "forest_tuned = RandomForestRegressor(max_depth=best_params[\"max_depth\"], n_estimators=best_params[\"n_estimators\"])\n",
    "\n",
    "# Test new model against orignal with cross validation on training set\n",
    "scores_norm = cross_val_score(forest, x_train, y_train, cv=5, scoring='neg_mean_squared_error')\n",
    "print(f'The average mean squared error for forest is: {scores_norm.mean()}')\n",
    "scores_tune = cross_val_score(forest_tuned, x_train, y_train, cv=5, scoring='neg_mean_squared_error')\n",
    "print(f'The average mean squared error for forest_tune is: {scores_tune.mean()}')\n",
    "\n",
    "# Fit the models with the testing data\n",
    "forest.fit(x_train, y_train)\n",
    "forest_tuned.fit(x_train, y_train)\n",
    "\n",
    "# Non-tuned predictions\n",
    "train_predict_norm = forest.predict(x_train)\n",
    "test_predict_norm = forest.predict(x_test)\n",
    "print('The Non-tuned training score is', mean_absolute_percentage_error(train_predict_norm, y_train))\n",
    "print('The Non-tuned test score is', mean_absolute_percentage_error(test_predict_norm, y_test))\n",
    "\n",
    "# Tuned predictions\n",
    "train_predict_tune = forest_tuned.predict(x_train)\n",
    "test_predict_tune = forest_tuned.predict(x_test)\n",
    "print('The Tuned training score is', mean_absolute_percentage_error(train_predict_tune, y_train))\n",
    "print('The Tuned test score is', mean_absolute_percentage_error(test_predict_tune, y_test))\n",
    "\n"
   ]
  }
 ],
 "metadata": {
  "language_info": {
   "codemirror_mode": {
    "name": "ipython",
    "version": 3
   },
   "file_extension": ".py",
   "mimetype": "text/x-python",
   "name": "python",
   "nbconvert_exporter": "python",
   "pygments_lexer": "ipython3",
   "version": "3.6.10-final"
  },
  "orig_nbformat": 2,
  "kernelspec": {
   "name": "python361064bithappyconda049ad4268bfd487294cb0ae01474c274",
   "display_name": "Python 3.6.10 64-bit ('Happy': conda)"
  }
 },
 "nbformat": 4,
 "nbformat_minor": 2
}