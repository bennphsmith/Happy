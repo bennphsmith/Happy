{
 "cells": [
  {
   "cell_type": "code",
   "execution_count": 1,
   "metadata": {},
   "outputs": [],
   "source": [
    "import pandas as pd\n",
    "import numpy as np\n",
    "\n"
   ]
  },
  {
   "cell_type": "code",
   "execution_count": 2,
   "metadata": {},
   "outputs": [],
   "source": [
    "########Begin Pre Processing the Happiness Scores CSV#########\n",
    "# Read in the Happiness CSV files\n",
    "happy_16 = pd.read_csv('2016.csv')\n",
    "happy_18 = pd.read_csv('2018.csv')"
   ]
  },
  {
   "cell_type": "code",
   "execution_count": 3,
   "metadata": {},
   "outputs": [
    {
     "output_type": "stream",
     "name": "stdout",
     "text": "Country          Region  Happiness Score\n0      Denmark  Western Europe            7.526\n1  Switzerland  Western Europe            7.509\n2      Iceland  Western Europe            7.501\n3       Norway  Western Europe            7.498\n4      Finland  Western Europe            7.413\n       Country          Region  Happiness Score\n0      Finland  Western Europe            7.632\n1       Norway  Western Europe            7.594\n2      Denmark  Western Europe            7.555\n3      Iceland  Western Europe            7.495\n4  Switzerland  Western Europe            7.487\nCountry            0\nRegion             0\nHappiness Score    0\ndtype: int64\nCountry            0\nRegion             5\nHappiness Score    0\ndtype: int64\n"
    }
   ],
   "source": [
    "# Create new tables out of the relvant colums from the database\n",
    "Happy16 =  happy_16[['Country', 'Region', 'Happiness Score']].copy()\n",
    "Happy18 =  happy_18[['Country or region', 'Score']].copy()\n",
    "Happy18.columns = ['Country', 'Happiness Score'] # Change column names to make them consistent\n",
    "Happy18 = pd.merge(Happy18, Happy16[['Country', 'Region']], on=['Country'], how='left') # Merge the regional information from 16 to 18\n",
    "Happy18 = Happy18[['Country', 'Region', 'Happiness Score']] # Reorder columns\n",
    "print(Happy16.head())\n",
    "print(Happy18.head())\n",
    "\n",
    "# Check for nulls\n",
    "print(Happy16.isnull().sum(axis = 0))\n",
    "print(Happy18.isnull().sum(axis = 0))\n"
   ]
  },
  {
   "cell_type": "code",
   "execution_count": 4,
   "metadata": {},
   "outputs": [
    {
     "output_type": "stream",
     "name": "stdout",
     "text": "{'Lesotho', 'Northern Cyprus', 'Central African Republic', 'Trinidad & Tobago', 'Mozambique'}\n{'Eastern Asia', 'North America', 'Latin America and Caribbean', 'Southern Asia', 'Middle East and Northern Africa', 'Western Europe', 'Central and Eastern Europe', 'Australia and New Zealand', 'Sub-Saharan Africa', 'Southeastern Asia'}\nCountry            0\nRegion             0\nHappiness Score    0\ndtype: int64\n"
    }
   ],
   "source": [
    "# Find and clean missing values for Region\n",
    "print(set(Happy18['Country']) - set(Happy16['Country'])) # Get Set of missing values\n",
    "print(set(Happy16['Region'])) # Get set of possible regions\n",
    "\n",
    "# Match different spellings of country name\n",
    "Happy16['Country'].replace('North Cyprus', 'Cyprus', inplace=True)\n",
    "Happy18['Country'].replace('Northern Cyprus', 'Cyprus', inplace=True)\n",
    "Happy18['Country'].replace('Trinidad & Tobago', 'Trinidad and Tobago', inplace=True)\n",
    "\n",
    "# Assign values based on most plausible region\n",
    "Happy18.loc[Happy18['Country'] == 'Cyprus', ['Region']] = 'Middle East and Northern Africa'\n",
    "Happy18.loc[Happy18['Country'] == 'Trinidad and Tobago', ['Region']] = 'Latin America and Caribbean'\n",
    "Happy18.loc[Happy18['Country'] == 'Lesotho', ['Region']] = 'Sub-Saharan Africa'\n",
    "Happy18.loc[Happy18['Country'] == 'Central African Republic', ['Region']] = 'Sub-Saharan Africa'\n",
    "Happy18.loc[Happy18['Country'] == 'Mozambique', ['Region']] = 'Sub-Saharan Africa'\n",
    "\n",
    "# Check table there is now no missing values\n",
    "print(Happy18.isnull().sum(axis = 0))\n"
   ]
  },
  {
   "cell_type": "code",
   "execution_count": 5,
   "metadata": {},
   "outputs": [
    {
     "output_type": "stream",
     "name": "stdout",
     "text": "Country                           Region  Happiness Score\n0        Denmark                   Western Europe            7.526\n1    Switzerland                   Western Europe            7.509\n2        Iceland                   Western Europe            7.501\n3         Norway                   Western Europe            7.498\n4        Finland                   Western Europe            7.413\n..           ...                              ...              ...\n152        Benin               Sub-Saharan Africa            3.484\n153  Afghanistan                    Southern Asia            3.360\n154         Togo               Sub-Saharan Africa            3.303\n155        Syria  Middle East and Northern Africa            3.069\n156      Burundi               Sub-Saharan Africa            2.905\n\n[157 rows x 3 columns]\n                      Country                           Region  \\\n0                     Finland                   Western Europe   \n1                      Norway                   Western Europe   \n2                     Denmark                   Western Europe   \n3                     Iceland                   Western Europe   \n4                 Switzerland                   Western Europe   \n..                        ...                              ...   \n151                     Yemen  Middle East and Northern Africa   \n152                  Tanzania               Sub-Saharan Africa   \n153               South Sudan               Sub-Saharan Africa   \n154  Central African Republic               Sub-Saharan Africa   \n155                   Burundi               Sub-Saharan Africa   \n\n     Happiness Score  \n0              7.632  \n1              7.594  \n2              7.555  \n3              7.495  \n4              7.487  \n..               ...  \n151            3.355  \n152            3.303  \n153            3.254  \n154            3.083  \n155            2.905  \n\n[156 rows x 3 columns]\n"
    }
   ],
   "source": [
    "# Check table out put matches and it is as expected\n",
    "print(Happy16)\n",
    "print(Happy18)\n",
    "\n",
    "# Export tables to csv files for easy reuse\n",
    "Happy16.to_csv('HappinessScores16.csv')\n",
    "Happy18.to_csv('HappinessScores18.csv')"
   ]
  },
  {
   "cell_type": "code",
   "execution_count": 6,
   "metadata": {},
   "outputs": [
    {
     "output_type": "stream",
     "name": "stdout",
     "text": "{'Iran', 'Palestinian Territories', 'Macedonia', 'Kyrgyzstan', 'Laos', 'Russia', 'Egypt', 'Taiwan', 'Ivory Coast', 'Syria', 'Venezuela', 'Congo (Kinshasa)', 'South Korea', 'Congo (Brazzaville)', 'Slovakia', 'Yemen', 'Hong Kong', 'Somaliland Region'}\n{'Iran', 'Macedonia', 'Kyrgyzstan', 'Laos', 'Russia', 'Egypt', 'Taiwan', 'Ivory Coast', 'Syria', 'Venezuela', 'Congo (Kinshasa)', 'South Korea', 'Congo (Brazzaville)', 'Slovakia', 'Yemen', 'Hong Kong', 'Palestinian Territories'}\n{'Iran', 'Taiwan', 'Venezuela', 'Cyprus', 'Palestinian Territories', 'Somaliland Region'}\n{'Iran', 'Taiwan', 'Venezuela', 'Cyprus', 'Palestinian Territories'}\n"
    }
   ],
   "source": [
    "########Begin Pre Processing the GDP pre Capita Scores CSV#########\n",
    "\n",
    "# Read and format csv file\n",
    "gdpCap = pd.read_csv('gdpCap.csv')\n",
    "newGDP =  gdpCap[['Country Name', '2016', '2018']].copy()\n",
    "newGDP.columns = ['Country', 'gdpCap16', 'gdpCap18'] # Change column names to make them consistent\n",
    "\n",
    "# Check country name discrepancies\n",
    "print(set(Happy16['Country']) - set(newGDP['Country']))\n",
    "print(set(Happy18['Country']) - set(newGDP['Country']))\n",
    "\n",
    "# Map country names to Happiness Score Country names where possible\n",
    "newGDP['Country'].replace('Congo, Rep.', 'Congo (Brazzaville)', inplace=True)\n",
    "newGDP['Country'].replace('North Macedonia', 'Macedonia', inplace=True)\n",
    "newGDP['Country'].replace('Yemen, Rep.', 'Yemen', inplace=True)\n",
    "newGDP['Country'].replace('Slovak Republic', 'Slovakia', inplace=True)\n",
    "newGDP['Country'].replace(\"Cote d'Ivoire\", 'Ivory Coast', inplace=True)\n",
    "newGDP['Country'].replace('Kyrgyz Republic', 'Kyrgyzstan', inplace=True)\n",
    "newGDP['Country'].replace('Hong Kong SAR, China',  'Hong Kong', inplace=True)\n",
    "newGDP['Country'].replace('Venezuela, RB', 'Russia', inplace=True)\n",
    "newGDP['Country'].replace('Congo, Dem. Rep.', 'Congo (Kinshasa)', inplace=True)\n",
    "newGDP['Country'].replace('Korea, Rep.', 'South Korea', inplace=True)\n",
    "newGDP['Country'].replace('Syrian Arab Republic', 'Syria', inplace=True)\n",
    "newGDP['Country'].replace('Lao PDR', 'Laos', inplace=True)\n",
    "newGDP['Country'].replace('Egypt, Arab Rep.', 'Egypt', inplace=True)\n",
    "newGDP['Country'].replace('Cyprus', 'North Cyprus', inplace=True)\n",
    "newGDP['Country'].replace('Russian Federation', 'Russia', inplace=True)\n",
    "\n",
    "# Check Country names have updated correctly\n",
    "print(set(Happy16['Country']) - set(newGDP['Country']))\n",
    "print(set(Happy18['Country']) - set(newGDP['Country']))\n",
    "\n",
    "# Copy newGDP table to CSV\n",
    "newGDP.to_csv('GDP.csv')"
   ]
  },
  {
   "cell_type": "code",
   "execution_count": 7,
   "metadata": {},
   "outputs": [
    {
     "output_type": "stream",
     "name": "stdout",
     "text": "Country                           Region  Happiness Score  gdpCap16\n54        Russia       Central and Eastern Europe            5.856       NaN\n136  South Sudan               Sub-Saharan Africa            3.832       NaN\n149        Syria  Middle East and Northern Africa            3.069       NaN\n         Country                           Region  Happiness Score  gdpCap18\n57        Russia       Central and Eastern Europe            5.810       NaN\n144        Syria  Middle East and Northern Africa            3.462       NaN\n148  South Sudan               Sub-Saharan Africa            3.254       NaN\nCountry            0\nRegion             0\nHappiness Score    0\ngdpCap16           0\ndtype: int64\nCountry            0\nRegion             0\nHappiness Score    0\ngdpCap18           0\ndtype: int64\n"
    }
   ],
   "source": [
    "# Perform inner join merge between newGDP and Happiness table to drop any remaining outstanding values\n",
    "gdpHappy16 = pd.merge(Happy16, newGDP[['Country', 'gdpCap16']], on=['Country'], how='inner')\n",
    "gdpHappy18 = pd.merge(Happy18, newGDP[['Country', 'gdpCap18']], on=['Country'], how='inner')\n",
    "\n",
    "# Check table output as expected\n",
    "#print(gdpHappy16)\n",
    "#print(gdpHappy18)\n",
    "\n",
    "# Print nulls\n",
    "print(gdpHappy16[gdpHappy16.isna().any(axis=1)])\n",
    "print(gdpHappy18[gdpHappy18.isna().any(axis=1)])\n",
    "\n",
    "# Drop null rows\n",
    "gdpHappy16 = gdpHappy16.dropna()\n",
    "gdpHappy18 = gdpHappy18.dropna()\n",
    "\n",
    "# Check for nulls\n",
    "print(gdpHappy16.isnull().sum(axis = 0))\n",
    "print(gdpHappy18.isnull().sum(axis = 0))\n",
    "\n"
   ]
  },
  {
   "cell_type": "code",
   "execution_count": 8,
   "metadata": {},
   "outputs": [
    {
     "output_type": "stream",
     "name": "stdout",
     "text": "{'Kyrgyzstan', 'Kosovo', 'Puerto Rico', 'Vietnam', 'Ivory Coast', 'Congo (Brazzaville)', 'United States', 'Congo (Kinshasa)', 'Hong Kong'}\n{'Somalia', 'Kosovo', 'Vietnam', 'Congo (Kinshasa)', 'Congo (Brazzaville)', 'United States', 'Yemen', 'Hong Kong'}\n{'Kosovo', 'Puerto Rico', 'Hong Kong'}\n{'Kosovo', 'Yemen', 'Hong Kong', 'Somalia'}\n"
    }
   ],
   "source": [
    "########Begin Pre Processing the EPI Scores CSV#########\n",
    "epi16 = pd.read_csv('EPI 2016 Scores.csv')\n",
    "epi18 = pd.read_csv('EPI 2018 Scores.csv')\n",
    "\n",
    "# Identify null values in the Data to choose which columns to drop\n",
    "#print(epi16.isnull().sum(axis=0))\n",
    "#print(epi18.isnull().sum(axis=0))\n",
    "\n",
    "# Average data between AIR.current and APE.current as EH - Air Quality encompasses both\n",
    "epi18['AIRQ.current'] = epi18[['AIR.current', 'APE.current']].mean(axis=1)\n",
    "\n",
    "# Extract useful Data to new table\n",
    "Epi16 =  epi16[['Country', 'EH - Air Quality', 'EV - Biodiversity and Habitat', 'EH - Water and Sanitation', 'EV - Water Resources']].copy()\n",
    "Epi18 =  epi18[['country', 'AIRQ.current', 'BDH.current', 'H2O.current', 'WRS.current']].copy()\n",
    "\n",
    "# Rename table column headers for consistency\n",
    "Epi16.columns = ['Country', 'Air Quality', 'Biodiversity', 'Water Sanitation', 'Water Resource']\n",
    "Epi18.columns = ['Country', 'Air Quality', 'Biodiversity', 'Water Sanitation', 'Water Resource']\n",
    "\n",
    "'''\n",
    "# Check averages and standard deviation of column values to confirm the scoring is broadly similar year to year for columns data\n",
    "# This has also been verified through the metadata for each report\n",
    "#print(Epi16.std(axis = 0, skipna = True) - Epi18.std(axis = 0, skipna = True))\n",
    "print(Epi16.std(axis = 0, skipna = True))\n",
    "print(Epi18.std(axis = 0, skipna = True))\n",
    "\n",
    "#print(Epi16.mean(axis = 0, skipna = True) - Epi18.mean(axis = 0, skipna = True))\n",
    "print(Epi16.mean(axis = 0, skipna = True))\n",
    "print(Epi18.mean(axis = 0, skipna = True))\n",
    "\n",
    "# Check for nulls\n",
    "print((Epi16 == 0).sum(axis = 0))\n",
    "print((Epi18 == 0).sum(axis = 0))\n",
    "'''\n",
    "# Compare country sets to match up countries\n",
    "print(set(gdpHappy16['Country']) - set(Epi16['Country']))\n",
    "print(set(gdpHappy18['Country']) - set(Epi18['Country']))\n",
    "\n",
    "# Map countries on the EPI16 reports\n",
    "Epi16['Country'].replace('Congo', 'Congo (Brazzaville)', inplace=True)\n",
    "Epi16['Country'].replace('Viet Nam', 'Vietnam', inplace=True)\n",
    "Epi16['Country'].replace('United States of America', 'United States', inplace=True)\n",
    "Epi16['Country'].replace(\"Cote d'Ivoire\", 'Ivory Coast', inplace=True)\n",
    "Epi16['Country'].replace('Dem. Rep. Congo', 'Congo (Kinshasa)', inplace=True)\n",
    "Epi16['Country'].replace('Kyrgyz Republic', 'Kyrgyzstan', inplace=True)\n",
    "\n",
    "# Map countries on the EPI18 reports\n",
    "Epi18['Country'].replace('Republic of Congo', 'Congo (Brazzaville)', inplace=True)\n",
    "Epi18['Country'].replace('Viet Nam', 'Vietnam', inplace=True)\n",
    "Epi18['Country'].replace('United States of America', 'United States', inplace=True)\n",
    "Epi18['Country'].replace('Dem. Rep. Congo', 'Congo (Kinshasa)', inplace=True)\n",
    "Epi18['Country'].replace('Kyrgyz Republic', 'Kyrgyzstan', inplace=True)\n",
    "\n",
    "# Compare country sets to match up countries\n",
    "print(set(gdpHappy16['Country']) - set(Epi16['Country']))\n",
    "print(set(gdpHappy18['Country']) - set(Epi18['Country']))\n",
    "\n",
    "\n",
    "\n"
   ]
  },
  {
   "cell_type": "code",
   "execution_count": 9,
   "metadata": {},
   "outputs": [
    {
     "output_type": "stream",
     "name": "stdout",
     "text": "Country              Region  Happiness Score      gdpCap16  \\\n0        Denmark      Western Europe            7.526  54663.998370   \n1    Switzerland      Western Europe            7.509  80172.193300   \n2        Iceland      Western Europe            7.501  61757.949310   \n3         Norway      Western Europe            7.498  70460.560530   \n4        Finland      Western Europe            7.413  43777.440090   \n..           ...                 ...              ...           ...   \n140       Rwanda  Sub-Saharan Africa            3.515    726.347974   \n141        Benin  Sub-Saharan Africa            3.484    789.084915   \n142  Afghanistan       Southern Asia            3.360    547.228110   \n143         Togo  Sub-Saharan Africa            3.303    597.065459   \n144      Burundi  Sub-Saharan Africa            2.905    282.193130   \n\n     Air Quality  Biodiversity  Water Sanitation  Water Resource  \n0          86.98         97.60             99.71          95.720  \n1          72.09         90.43             99.93          98.230  \n2          97.04         66.04             99.29          88.200  \n3          94.59         82.20             98.86          93.890  \n4          93.77         96.93             98.57          93.520  \n..           ...           ...               ...             ...  \n140        56.24         71.26             58.00           0.000  \n141        64.66         77.29             41.07           7.626  \n142        70.74         21.25             39.20           0.000  \n143        65.84         71.34             31.40           0.000  \n144        55.48         64.71             40.62           0.000  \n\n[145 rows x 8 columns]\n                      Country              Region  Happiness Score  \\\n0                     Finland      Western Europe            7.632   \n1                      Norway      Western Europe            7.594   \n2                     Denmark      Western Europe            7.555   \n3                     Iceland      Western Europe            7.495   \n4                 Switzerland      Western Europe            7.487   \n..                        ...                 ...              ...   \n139                   Liberia  Sub-Saharan Africa            3.495   \n140                    Rwanda  Sub-Saharan Africa            3.408   \n141                  Tanzania  Sub-Saharan Africa            3.303   \n142  Central African Republic  Sub-Saharan Africa            3.083   \n143                   Burundi  Sub-Saharan Africa            2.905   \n\n         gdpCap18  Air Quality  Biodiversity  Water Sanitation  Water Resource  \n0    50152.340140       74.050         89.25            100.00           97.01  \n1    81697.245980       60.950         88.96             99.65           96.11  \n2    61350.347910       85.080         94.48             97.78           98.45  \n3    73191.116320       73.830         75.77            100.00           94.47  \n4    82796.547160       94.880         84.20             99.99           99.67  \n..            ...          ...           ...               ...             ...  \n139    677.322179       38.990         34.35              4.79            0.00  \n140    772.944460       53.155         63.24             14.96            0.00  \n141   1060.994615       55.655         95.03             11.80           54.03  \n142    475.721250       41.620         89.60              0.00            0.00  \n143    271.752044       37.550         53.67              0.86            0.00  \n\n[144 rows x 8 columns]\n"
    }
   ],
   "source": [
    "# Perform inner merge to add EPI data to Happiness scores\n",
    "gdpEpiHappy16 = pd.merge(gdpHappy16, Epi16, on=['Country'], how='inner')\n",
    "gdpEpiHappy18 = pd.merge(gdpHappy18, Epi18, on=['Country'], how='inner')\n",
    "'''\n",
    "# Check for null values\n",
    "print(gdpEpiHappy16.isnull().sum(axis = 0))\n",
    "print(gdpEpiHappy18.isnull().sum(axis = 0))\n",
    "'''\n",
    "# Print to check tables\n",
    "print(gdpEpiHappy16)\n",
    "print(gdpEpiHappy18)\n",
    "\n",
    "# Convert to csv\n",
    "gdpEpiHappy16.to_csv('test16.csv')\n",
    "gdpEpiHappy18.to_csv('test18.csv')\n",
    "\n"
   ]
  },
  {
   "cell_type": "code",
   "execution_count": 19,
   "metadata": {},
   "outputs": [
    {
     "output_type": "stream",
     "name": "stdout",
     "text": "set()\nset()\n                 Country   2016   2018\n0            Afghanistan   0.29   0.29\n1                Albania   1.60   1.64\n2                Algeria   3.85   3.94\n3                 Angola   1.16   0.98\n4    Antigua and Barbuda   6.26   6.23\n..                   ...    ...    ...\n186            Macedonia   3.72   3.87\n187       Czech Republic  10.33  10.44\n188                Italy   5.92   5.82\n189          Switzerland   4.91   4.79\n190               Israel   8.09   7.93\n\n[191 rows x 3 columns]\n"
    }
   ],
   "source": [
    "#########Add CO2 data##########\n",
    "# Measured in tons of CO2 per capita\n",
    "# Data got from https://knoema.com/atlas/ranks/CO2-emissions-per-capita?action=export&gadget=tranking-container\n",
    "# Extra values input manually from https://knoema.com/EDGARED2019/global-ghg-and-co2-emissions?location=1000500&indicator=1000070&type=1000140&utm_source=datafinder&utm_medium=excel&utm_campaign=sourcelink&frequency=A&lastUpdated=1585308536760#\n",
    "co2 = pd.read_csv('CO2data.csv')\n",
    "co2Data =  co2[['Location', '2016', '2018']].copy()\n",
    "\n",
    "# Map countries\n",
    "co2Data['Location'].replace('Congo', 'Congo (Brazzaville)', inplace=True)\n",
    "co2Data['Location'].replace('Democratic Republic of the Congo', 'Congo (Kinshasa)', inplace=True)\n",
    "co2Data['Location'].replace('Myanmar/Burma', 'Myanmar', inplace=True)\n",
    "co2Data['Location'].replace('North Macedonia', 'Macedonia', inplace=True)\n",
    "\n",
    "# Check unmapped countries\n",
    "print(set(gdpEpiHappy16['Country']) - set(co2Data['Location']))\n",
    "print(set(gdpEpiHappy18['Country']) - set(co2Data['Location']))\n",
    "\n",
    "# Change column names\n",
    "co2Data.columns = ['Country', '2016', '2018']\n",
    "\n",
    "# Covert final table to csv format\n",
    "print(co2Data)\n",
    "co2Data.to_csv('test16.csv')\n",
    "\n"
   ]
  },
  {
   "cell_type": "code",
   "execution_count": 27,
   "metadata": {},
   "outputs": [
    {
     "output_type": "stream",
     "name": "stdout",
     "text": "Country             0\nRegion              0\nGDP per Capita      0\nAir Quality         0\nBiodiversity        0\nCO2 per Capita      0\nWater Sanitation    0\nWater Resource      0\nHappiness Score     0\ndtype: int64\nCountry             0\nRegion              0\nGDP per Capita      0\nAir Quality         0\nBiodiversity        0\nCO2 per Capita      0\nWater Sanitation    0\nWater Resource      0\nHappiness Score     0\ndtype: int64\n"
    }
   ],
   "source": [
    "########Complete final merge to make total data set##########\n",
    "final16= pd.merge(gdpEpiHappy16, co2Data[['Country', '2016']], on=['Country'], how='inner')\n",
    "final18= pd.merge(gdpEpiHappy18, co2Data[['Country', '2018']], on=['Country'], how='inner')\n",
    "\n",
    "# Final table format\n",
    "final16 = final16.reindex(columns=['Country', 'Region', 'gdpCap16', 'Air Quality', 'Biodiversity', '2016', 'Water Sanitation', 'Water Resource', 'Happiness Score'])\n",
    "final18 = final18.reindex(columns=['Country', 'Region', 'gdpCap18', 'Air Quality', 'Biodiversity', '2018', 'Water Sanitation', 'Water Resource', 'Happiness Score'])\n",
    "final16.columns = ['Country', 'Region', 'GDP per Capita', 'Air Quality', 'Biodiversity', 'CO2 per Capita', 'Water Sanitation', 'Water Resource', 'Happiness Score']\n",
    "final18.columns = ['Country', 'Region', 'GDP per Capita', 'Air Quality', 'Biodiversity', 'CO2 per Capita', 'Water Sanitation', 'Water Resource', 'Happiness Score']\n",
    "\n",
    "# Check for nulls\n",
    "print(final16.isnull().sum(axis = 0))\n",
    "print(final18.isnull().sum(axis = 0))\n",
    "\n",
    "# Export to csv\n",
    "final16.to_csv('final16.csv')\n",
    "final18.to_csv('final18.csv')\n",
    "\n"
   ]
  }
 ],
 "metadata": {
  "language_info": {
   "codemirror_mode": {
    "name": "ipython",
    "version": 3
   },
   "file_extension": ".py",
   "mimetype": "text/x-python",
   "name": "python",
   "nbconvert_exporter": "python",
   "pygments_lexer": "ipython3",
   "version": "3.6.10-final"
  },
  "orig_nbformat": 2,
  "kernelspec": {
   "name": "python361064bithappyconda049ad4268bfd487294cb0ae01474c274",
   "display_name": "Python 3.6.10 64-bit ('Happy': conda)"
  }
 },
 "nbformat": 4,
 "nbformat_minor": 2
}