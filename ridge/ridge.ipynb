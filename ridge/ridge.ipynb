{
 "cells": [
  {
   "cell_type": "code",
   "execution_count": 166,
   "metadata": {},
   "outputs": [],
   "source": [
    "import pandas as pd\n",
    "import numpy as np\n",
    "import pylab\n",
    "import matplotlib.pyplot as plt\n",
    "import plotly.graph_objects as go\n",
    "import seaborn as sns\n",
    "import statsmodels.api as sm\n",
    "from sklearn.model_selection import GridSearchCV, train_test_split, cross_val_score\n",
    "from sklearn.metrics import mean_squared_error\n",
    "from sklearn.linear_model import Ridge\n",
    "from sklearn import linear_model\n",
    "from scipy import stats"
   ]
  },
  {
   "cell_type": "code",
   "execution_count": 167,
   "metadata": {},
   "outputs": [
    {
     "output_type": "stream",
     "name": "stdout",
     "text": "(287, 5)\n(287, 1)\n"
    }
   ],
   "source": [
    "# Import the dataset\n",
    "ridgeData = pd.read_csv('normalTotal.csv', index_col=[0]) # Use normalised values\n",
    "ridgeData = ridgeData.drop(['Country', 'Region'], axis=1) # Drop country and region data\n",
    "ridge_x = ridgeData.drop(['Happiness Score'], axis=1) # X - all data apart from Happiness Score\n",
    "ridge_y = ridgeData['Happiness Score'].values.reshape(-1,1) # y - reshap happiness score to make compatible\n",
    "\n",
    "# Check shapes\n",
    "print(ridge_x.shape)\n",
    "print(ridge_y.shape)\n",
    "\n",
    "# Split the data sets into training and testing\n",
    "x_train, x_test, y_train, y_test = train_test_split(ridge_x, ridge_y, test_size=0.3)\n"
   ]
  },
  {
   "cell_type": "code",
   "execution_count": 169,
   "metadata": {},
   "outputs": [
    {
     "output_type": "stream",
     "name": "stdout",
     "text": "{'alpha': 1}\n-0.022491653302179563\nThe average mean squared error for ridge is: -0.022491653302179563\nThe average mean squared error for ridge_tune is: -0.022491653302179563\nThe Non-tuned training score is 26.012558376295686\nThe Non-tuned test score is 22.3147003559226\nThe Tuned training score is 26.012558376295686\nThe Tuned test score is 22.3147003559226\n"
    }
   ],
   "source": [
    "# Create function for mean absolute percentage error\n",
    "def mean_absolute_percentage_error(y_true, y_pred): \n",
    "    y_true, y_pred = np.array(y_true), np.array(y_pred)\n",
    "    return np.mean(np.abs((y_true - y_pred) / y_true)) * 100\n",
    "\n",
    "#######Ridge Regression########\n",
    "ridge = Ridge() # Instansiate new ridge instance\n",
    "\n",
    "# Tune the Hyperparameters using GridSearch\n",
    "parameters = {'alpha': [1e-15, 1e-10, 1e-8, 1e-4, 1e-3, 1e-2, 1, 5, 10, 100, 1000]} # Regularisation parameters\n",
    "grid = GridSearchCV(ridge, parameters, scoring='neg_mean_squared_error', cv=5) # Perform gridsearch\n",
    "result = grid.fit(x_train, y_train)\n",
    "print(grid.best_params_) # Display the beest paremeter value\n",
    "print(grid.best_score_) # Display the best neg mean square score\n",
    "# Create new model with optimal parameters\n",
    "best_params = result.best_params_ # Copy best parameters\n",
    "ridge_tuned = Ridge(alpha=best_params['alpha']) # Instantiate new object with best parameters\n",
    "\n",
    "# Test new model against orignal with cross validation on training set\n",
    "scores_norm = cross_val_score(ridge, x_train, y_train, cv=5, scoring='neg_mean_squared_error')\n",
    "print(f'The average mean squared error for ridge is: {scores_norm.mean()}')\n",
    "scores_tune = cross_val_score(ridge_tuned, x_train, y_train, cv=5, scoring='neg_mean_squared_error')\n",
    "print(f'The average mean squared error for ridge_tune is: {scores_tune.mean()}')\n",
    "\n",
    "# Fit the models with the testing data\n",
    "ridge.fit(x_train, y_train)\n",
    "ridge_tuned.fit(x_train, y_train)\n",
    "\n",
    "# Non-tuned predictions\n",
    "train_predict_norm = ridge.predict(x_train)\n",
    "test_predict_norm = ridge.predict(x_test)\n",
    "print('The Non-tuned training score is', mean_absolute_percentage_error(train_predict_norm, y_train))\n",
    "print('The Non-tuned test score is', mean_absolute_percentage_error(test_predict_norm, y_test))\n",
    "\n",
    "# Tuned predictions\n",
    "train_predict_tune = ridge_tuned.predict(x_train)\n",
    "test_predict_tune = ridge_tuned.predict(x_test)\n",
    "print('The Tuned training score is', mean_absolute_percentage_error(train_predict_tune, y_train))\n",
    "print('The Tuned test score is', mean_absolute_percentage_error(test_predict_tune, y_test))\n"
   ]
  }
 ],
 "metadata": {
  "language_info": {
   "codemirror_mode": {
    "name": "ipython",
    "version": 3
   },
   "file_extension": ".py",
   "mimetype": "text/x-python",
   "name": "python",
   "nbconvert_exporter": "python",
   "pygments_lexer": "ipython3",
   "version": "3.6.10-final"
  },
  "orig_nbformat": 2,
  "kernelspec": {
   "name": "python361064bithappyconda049ad4268bfd487294cb0ae01474c274",
   "display_name": "Python 3.6.10 64-bit ('Happy': conda)"
  }
 },
 "nbformat": 4,
 "nbformat_minor": 2
}