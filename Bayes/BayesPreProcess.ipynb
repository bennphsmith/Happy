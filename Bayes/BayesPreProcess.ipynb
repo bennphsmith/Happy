{
 "cells": [
  {
   "cell_type": "code",
   "execution_count": 423,
   "metadata": {},
   "outputs": [],
   "source": [
    "import pandas as pd\n",
    "import numpy as np\n",
    "import matplotlib.pyplot as plt\n",
    "import plotly.graph_objects as go\n"
   ]
  },
  {
   "cell_type": "code",
   "execution_count": 424,
   "metadata": {},
   "outputs": [],
   "source": [
    "#####Pre-Processing for Bayes Model########\n",
    "bayes16 = pd.read_csv('final16.csv', index_col=[0])\n",
    "bayes18 = pd.read_csv('final18.csv', index_col=[0])\n"
   ]
  },
  {
   "cell_type": "code",
   "execution_count": 425,
   "metadata": {},
   "outputs": [],
   "source": [
    "#######Edit the EPI Values#######\n",
    "# Epi values are based on relative scale between 0-100\n",
    "# Graph is mostly linear therefore its fine to bin them into categories based on quantile values\n",
    "def discreteEPI(cat):\n",
    "    cat = cat.apply(\n",
    "    lambda x: \n",
    "    'Very Poor' if x <= float(20) else\n",
    "    ('Poor' if x > float(20) and x <= float(40) else\n",
    "    ('Average' if x > float(40) and x <= float(60) else\n",
    "    ('Good' if x > float(60) and x <= float(80) else\n",
    "    'Very Good'))))\n",
    "    return cat\n",
    "\n",
    "# Function to transform preprocessed Data into Bayes ready data\n",
    "def BayesTransform(bayes):\n",
    "\n",
    "    # Transform EPI values\n",
    "    bayes['Air Quality'] = discreteEPI(bayes['Air Quality'])\n",
    "    bayes['Biodiversity'] = discreteEPI(bayes['Biodiversity'])\n",
    "    bayes['Water Sanitation'] = discreteEPI(bayes['Water Sanitation'])\n",
    "\n",
    "    # Convert GDP to discrete states using World Bank Classifications for specific year\n",
    "    # 2016 - https://blogs.worldbank.org/opendata/new-country-classifications-2016\n",
    "    # 2018 - https://blogs.worldbank.org/opendata/new-country-classifications-income-level-2018-2019\n",
    "    bayes['GDP per Capita'] = bayes['GDP per Capita'].apply(\n",
    "        lambda x: \n",
    "        'Low-Income' if x <= float(1025) else\n",
    "        ('Lower-Middle-Income' if x > float(1025) and x <= float(4035) else\n",
    "        ('Upper-Middle-Income' if x > float(4035) and x <= float(12475) else\n",
    "        'High-Income')))\n",
    "\n",
    "    # CO2 values have a left skew there need to undergo a log transformation\n",
    "    bayes['CO2 per Capita'] = (bayes[\"CO2 per Capita\"] + 1).apply(np.log)\n",
    "    bayes['CO2 per Capita'] = pd.cut(bayes['CO2 per Capita'], 5, labels=[\"Very Low\", \"Low\", \"Medium\", \"High\", \"Very High\"])\n",
    "\n",
    "    # Happiness values follow very linear trend therefore no need to normalize\n",
    "    bayes['Happiness Score'] = pd.cut(\n",
    "        bayes['Happiness Score'], 7, \n",
    "        labels=[\"Very Unhappy\", \"Unhappy\", \"Discontent\", \"Average\", \"Content\", \"Happy\", \"Very Happy\"])\n",
    "\n",
    "    # Remove Coutnry Labels for training data set\n",
    "    bayes = bayes[['Region', 'GDP per Capita', 'CO2 per Capita', 'Air Quality', 'Biodiversity', 'Water Sanitation', 'Happiness Score']]\n",
    "\n",
    "    # return new data frame\n",
    "    return bayes\n",
    "\n",
    "bayes16 = BayesTransform(bayes16)\n",
    "bayes18 = BayesTransform(bayes18)\n",
    "\n",
    "bayesFinal = bayes16.append(bayes18, ignore_index=True)\n",
    "\n",
    "# Upload to csv format\n",
    "bayesFinal.to_csv('trainingData.csv', index=False)\n"
   ]
  }
 ],
 "metadata": {
  "language_info": {
   "codemirror_mode": {
    "name": "ipython",
    "version": 3
   },
   "file_extension": ".py",
   "mimetype": "text/x-python",
   "name": "python",
   "nbconvert_exporter": "python",
   "pygments_lexer": "ipython3",
   "version": "3.6.10-final"
  },
  "orig_nbformat": 2,
  "kernelspec": {
   "name": "python361064bithappyconda049ad4268bfd487294cb0ae01474c274",
   "display_name": "Python 3.6.10 64-bit ('Happy': conda)"
  }
 },
 "nbformat": 4,
 "nbformat_minor": 2
}